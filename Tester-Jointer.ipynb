{
 "cells": [
  {
   "cell_type": "code",
   "execution_count": 62,
   "metadata": {},
   "outputs": [
    {
     "name": "stdout",
     "output_type": "stream",
     "text": [
      "['-f']\n"
     ]
    }
   ],
   "source": [
    "#file : suku.py\n",
    "#auth : Peb Ruswono Aryan\n",
    "#desc : pemenggalan suku kata bahasa indonesia\n",
    "import os, sys\n",
    "import re, glob\n",
    "\n",
    "vokal = ['a', 'i', 'u', 'e', 'o']\n",
    "awalan = [\"be\", \"me\", \"pe\"]\n",
    " \n",
    "def replacer(kata, pola):\n",
    "    result = kata\n",
    "    for p,r in pola.items():\n",
    "        result = result.replace(p, r)\n",
    "    return result\n",
    "     \n",
    "def unreplacer(kata, pola):\n",
    "    result = kata\n",
    "    for p,r in pola.items():\n",
    "        result = result.replace(r, p)\n",
    "    return result\n",
    "     \n",
    "def praproses(kata):\n",
    "    result = []\n",
    "    tmp = \"\"\n",
    "    i=0\n",
    "    inkonsonan = False\n",
    "    numkonsonan = 0\n",
    "    for karakter in kata:\n",
    "        iskonsonan = (karakter not in vokal)\n",
    "        if iskonsonan:\n",
    "            if not inkonsonan:\n",
    "                inkonsonan = True\n",
    "            numkonsonan += 1\n",
    "            tmp += karakter\n",
    "        else:\n",
    "            if inkonsonan:\n",
    "                inkonsonan = False\n",
    "                 \n",
    "                if len(tmp)==1:\n",
    "                    result += [tmp+karakter]\n",
    "                else:\n",
    "                    result += [tmp[0], tmp[1:]+karakter]\n",
    "                tmp = \"\"\n",
    "            else:\n",
    "                result += [karakter]\n",
    "    if len(tmp)>0:\n",
    "        result += [tmp]\n",
    "    return result\n",
    "     \n",
    "def kaidah1(listsuku):\n",
    "    global vokal\n",
    "    result = []\n",
    "    last = \"\"\n",
    "    i = 0\n",
    "    for suku in listsuku:\n",
    "        if len(suku)==1 and i>0:\n",
    "            if suku in vokal:\n",
    "                result += [suku]\n",
    "            elif listsuku[i-1][-1] in vokal:\n",
    "                if i<len(listsuku)-1 and len(listsuku[i+1])==1 and listsuku[i+1][0] in vokal:\n",
    "                    result += [suku]\n",
    "                else:\n",
    "                    result[-1] = result[-1] + suku\n",
    "        else:\n",
    "            result += [suku]\n",
    "        i += 1\n",
    "        last = suku\n",
    "    return result\n",
    "     \n",
    "def kaidah2(listsuku):\n",
    "    global vokal, awalan\n",
    "    dift = [\"$\", \"%\", \"^\", \"&\", \"*\", \"(\"]\n",
    "    if len(listsuku)>1:\n",
    "        if listsuku[0] in awalan and listsuku[1][0] not in vokal and listsuku[1][0] not in dift and len(listsuku[1])>2:\n",
    "            listsuku[0] += listsuku[1][0]\n",
    "            listsuku[1] = listsuku[1][1:]\n",
    "        if len(listsuku[0])==1:\n",
    "            listsuku = [listsuku[0]+listsuku[1]] + listsuku[2:]\n",
    "    return listsuku\n",
    "     \n",
    "def kaidah3(listsuku):\n",
    "    global vokal\n",
    "    result = []\n",
    "    last = \"\"\n",
    "    i = 0\n",
    "    for suku in listsuku:\n",
    "        if len(suku)==1 and i>0:\n",
    "            if listsuku[i-1][-1] in vokal:\n",
    "                result[-1] = result[-1] + suku\n",
    "            else:\n",
    "                result += [suku]\n",
    "        else:\n",
    "            result += [suku]\n",
    "        i += 1\n",
    "        last = suku\n",
    "    return result\n",
    "     \n",
    "def pecah(kata):\n",
    "    kdift = {\"kh\":\"$\", \"ng\":\"%\", \"ny\":\"^\", \"sy\":\"&\", \"tr\":\"*\", \"gr\":\"(\"}\n",
    "     \n",
    "    suku = praproses(replacer(kata, kdift))\n",
    "    #print(suku)\n",
    "    #suku = kaidah1(suku)\n",
    "    #print(\"1 \", suku)\n",
    "    #suku = kaidah2(suku)\n",
    "    #print(\"2 \", suku)\n",
    "    #suku = kaidah3(suku)\n",
    "    #print(\"3 \", suku)\n",
    "    return [unreplacer(s, kdift) for s in suku]\n",
    "     \n",
    "    #return [unreplacer(s, kdift) for s in kaidah3(kaidah2(kaidah1(praproses(replacer(kata, kdift)))))]\n",
    " \n",
    "if __name__=='__main__':\n",
    "    if len(sys.argv)>1:\n",
    "        kata = sys.argv[1]\n",
    "        print(pecah(kata))\n"
   ]
  },
  {
   "cell_type": "code",
   "execution_count": 63,
   "metadata": {},
   "outputs": [
    {
     "data": {
      "text/plain": [
       "['a', 'ba', 'i', 'ma', 'na']"
      ]
     },
     "execution_count": 63,
     "metadata": {},
     "output_type": "execute_result"
    }
   ],
   "source": [
    "pecah(\"abaimana\")"
   ]
  },
  {
   "cell_type": "code",
   "execution_count": 48,
   "metadata": {},
   "outputs": [],
   "source": [
    "import gtts\n",
    "import subprocess"
   ]
  },
  {
   "cell_type": "code",
   "execution_count": 55,
   "metadata": {},
   "outputs": [],
   "source": [
    "def katakan(sentence, slow = False):\n",
    "    try:\n",
    "      rets = gtts.gTTS(sentence, lang=\"id\", slow = slow)\n",
    "      rets.save(\"_tempspeech.mp3\")\n",
    "    except:\n",
    "        print(\"Error calling gTTS -- quit\")\n",
    "    try:\n",
    "        subprocess.call([\"ffplay\", \"-nodisp\", \"-autoexit\", \"_tempspeech.mp3\"])\n",
    "    except:\n",
    "        print(\"Error calling - ffplay --maybe ffmpeg not installed correctly?\")"
   ]
  },
  {
   "cell_type": "code",
   "execution_count": 56,
   "metadata": {},
   "outputs": [],
   "source": [
    "indir=\".\\sk_audio\""
   ]
  },
  {
   "cell_type": "code",
   "execution_count": 57,
   "metadata": {},
   "outputs": [],
   "source": [
    "def bilang(sukukata,slow=False):\n",
    "    fnn=os.path.join(indir,sukukata+\".mp3\")\n",
    "    try:\n",
    "        subprocess.call([\"ffplay\",\"-nodisp\",\"-autoexit\",fnn])\n",
    "    except:\n",
    "        print(\"Sukukata \", fnn, \" tidak ada\")"
   ]
  },
  {
   "cell_type": "code",
   "execution_count": 61,
   "metadata": {},
   "outputs": [],
   "source": [
    "bilang(\"jo\")\n",
    "bilang(\"ko\")\n",
    "bilang(\"wi\")"
   ]
  },
  {
   "cell_type": "code",
   "execution_count": null,
   "metadata": {},
   "outputs": [],
   "source": []
  },
  {
   "cell_type": "code",
   "execution_count": null,
   "metadata": {},
   "outputs": [],
   "source": []
  }
 ],
 "metadata": {
  "kernelspec": {
   "display_name": "Python 3",
   "language": "python",
   "name": "python3"
  },
  "language_info": {
   "codemirror_mode": {
    "name": "ipython",
    "version": 3
   },
   "file_extension": ".py",
   "mimetype": "text/x-python",
   "name": "python",
   "nbconvert_exporter": "python",
   "pygments_lexer": "ipython3",
   "version": "3.6.4"
  }
 },
 "nbformat": 4,
 "nbformat_minor": 2
}
